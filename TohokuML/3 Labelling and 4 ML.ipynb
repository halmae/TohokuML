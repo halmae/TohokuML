{
 "cells": [
  {
   "cell_type": "code",
   "execution_count": 1,
   "id": "fb30ba3b",
   "metadata": {},
   "outputs": [],
   "source": [
    "from pykrx import stock\n",
    "from datetime import datetime, timedelta\n",
    "\n",
    "import numpy as np\n",
    "import pandas as pd\n",
    "import matplotlib.pyplot as plt"
   ]
  },
  {
   "cell_type": "code",
   "execution_count": 2,
   "id": "96b8bdba",
   "metadata": {},
   "outputs": [],
   "source": [
    "from functions import weekly_preprocess, training_preprocess, labelling"
   ]
  },
  {
   "cell_type": "code",
   "execution_count": 3,
   "id": "fabfa499",
   "metadata": {},
   "outputs": [],
   "source": [
    "# 관심있는 주식 종목\n",
    "# 팬오션(028670), 대원전선우(002720)\n",
    "stock_code = ['028670', '002720']"
   ]
  },
  {
   "cell_type": "code",
   "execution_count": 4,
   "id": "ab477dc6",
   "metadata": {},
   "outputs": [],
   "source": [
    "# 전처리한 data 읽기\n",
    "df1 = pd.read_csv(f'{stock_code[0]}_preprocess.csv', index_col = 0, parse_dates = True)\n",
    "df2 = pd.read_csv(f'{stock_code[1]}_preprocess.csv', index_col = 0, parse_dates = True)"
   ]
  },
  {
   "cell_type": "code",
   "execution_count": 5,
   "id": "189ea597",
   "metadata": {},
   "outputs": [
    {
     "data": {
      "text/html": [
       "<div>\n",
       "<style scoped>\n",
       "    .dataframe tbody tr th:only-of-type {\n",
       "        vertical-align: middle;\n",
       "    }\n",
       "\n",
       "    .dataframe tbody tr th {\n",
       "        vertical-align: top;\n",
       "    }\n",
       "\n",
       "    .dataframe thead th {\n",
       "        text-align: right;\n",
       "    }\n",
       "</style>\n",
       "<table border=\"1\" class=\"dataframe\">\n",
       "  <thead>\n",
       "    <tr style=\"text-align: right;\">\n",
       "      <th></th>\n",
       "      <th>high</th>\n",
       "      <th>low</th>\n",
       "      <th>close</th>\n",
       "      <th>volume</th>\n",
       "    </tr>\n",
       "  </thead>\n",
       "  <tbody>\n",
       "    <tr>\n",
       "      <th>2011-01-03</th>\n",
       "      <td>1.021652</td>\n",
       "      <td>0.995671</td>\n",
       "      <td>1.000012</td>\n",
       "      <td>1615305.0</td>\n",
       "    </tr>\n",
       "    <tr>\n",
       "      <th>2011-01-10</th>\n",
       "      <td>1.012993</td>\n",
       "      <td>0.978360</td>\n",
       "      <td>1.004341</td>\n",
       "      <td>1648942.6</td>\n",
       "    </tr>\n",
       "    <tr>\n",
       "      <th>2011-01-17</th>\n",
       "      <td>1.034189</td>\n",
       "      <td>0.965811</td>\n",
       "      <td>0.974364</td>\n",
       "      <td>2478168.4</td>\n",
       "    </tr>\n",
       "    <tr>\n",
       "      <th>2011-01-24</th>\n",
       "      <td>1.017622</td>\n",
       "      <td>0.947152</td>\n",
       "      <td>0.955963</td>\n",
       "      <td>2235941.6</td>\n",
       "    </tr>\n",
       "    <tr>\n",
       "      <th>2011-01-31</th>\n",
       "      <td>1.027650</td>\n",
       "      <td>0.990789</td>\n",
       "      <td>0.995398</td>\n",
       "      <td>1315576.5</td>\n",
       "    </tr>\n",
       "    <tr>\n",
       "      <th>...</th>\n",
       "      <td>...</td>\n",
       "      <td>...</td>\n",
       "      <td>...</td>\n",
       "      <td>...</td>\n",
       "    </tr>\n",
       "    <tr>\n",
       "      <th>2022-11-28</th>\n",
       "      <td>1.047801</td>\n",
       "      <td>0.988528</td>\n",
       "      <td>1.042065</td>\n",
       "      <td>2050140.0</td>\n",
       "    </tr>\n",
       "    <tr>\n",
       "      <th>2022-12-05</th>\n",
       "      <td>1.097248</td>\n",
       "      <td>0.983486</td>\n",
       "      <td>1.091743</td>\n",
       "      <td>3602847.4</td>\n",
       "    </tr>\n",
       "    <tr>\n",
       "      <th>2022-12-12</th>\n",
       "      <td>1.013582</td>\n",
       "      <td>0.932088</td>\n",
       "      <td>0.998302</td>\n",
       "      <td>3140911.4</td>\n",
       "    </tr>\n",
       "    <tr>\n",
       "      <th>2022-12-19</th>\n",
       "      <td>1.067126</td>\n",
       "      <td>0.965577</td>\n",
       "      <td>1.037866</td>\n",
       "      <td>4104783.2</td>\n",
       "    </tr>\n",
       "    <tr>\n",
       "      <th>2022-12-26</th>\n",
       "      <td>1.008361</td>\n",
       "      <td>0.954849</td>\n",
       "      <td>0.958194</td>\n",
       "      <td>2337898.5</td>\n",
       "    </tr>\n",
       "  </tbody>\n",
       "</table>\n",
       "<p>585 rows × 4 columns</p>\n",
       "</div>"
      ],
      "text/plain": [
       "                high       low     close     volume\n",
       "2011-01-03  1.021652  0.995671  1.000012  1615305.0\n",
       "2011-01-10  1.012993  0.978360  1.004341  1648942.6\n",
       "2011-01-17  1.034189  0.965811  0.974364  2478168.4\n",
       "2011-01-24  1.017622  0.947152  0.955963  2235941.6\n",
       "2011-01-31  1.027650  0.990789  0.995398  1315576.5\n",
       "...              ...       ...       ...        ...\n",
       "2022-11-28  1.047801  0.988528  1.042065  2050140.0\n",
       "2022-12-05  1.097248  0.983486  1.091743  3602847.4\n",
       "2022-12-12  1.013582  0.932088  0.998302  3140911.4\n",
       "2022-12-19  1.067126  0.965577  1.037866  4104783.2\n",
       "2022-12-26  1.008361  0.954849  0.958194  2337898.5\n",
       "\n",
       "[585 rows x 4 columns]"
      ]
     },
     "execution_count": 5,
     "metadata": {},
     "output_type": "execute_result"
    }
   ],
   "source": [
    "df1"
   ]
  },
  {
   "cell_type": "code",
   "execution_count": 6,
   "id": "2e3173c8",
   "metadata": {},
   "outputs": [],
   "source": [
    "df1_cleaned = df1.dropna()"
   ]
  },
  {
   "cell_type": "code",
   "execution_count": 7,
   "id": "a704392b",
   "metadata": {},
   "outputs": [
    {
     "data": {
      "text/html": [
       "<div>\n",
       "<style scoped>\n",
       "    .dataframe tbody tr th:only-of-type {\n",
       "        vertical-align: middle;\n",
       "    }\n",
       "\n",
       "    .dataframe tbody tr th {\n",
       "        vertical-align: top;\n",
       "    }\n",
       "\n",
       "    .dataframe thead th {\n",
       "        text-align: right;\n",
       "    }\n",
       "</style>\n",
       "<table border=\"1\" class=\"dataframe\">\n",
       "  <thead>\n",
       "    <tr style=\"text-align: right;\">\n",
       "      <th></th>\n",
       "      <th>high</th>\n",
       "      <th>low</th>\n",
       "      <th>close</th>\n",
       "      <th>volume</th>\n",
       "    </tr>\n",
       "  </thead>\n",
       "  <tbody>\n",
       "    <tr>\n",
       "      <th>2011-01-03</th>\n",
       "      <td>1.012042</td>\n",
       "      <td>0.989600</td>\n",
       "      <td>1.007115</td>\n",
       "      <td>21249.60</td>\n",
       "    </tr>\n",
       "    <tr>\n",
       "      <th>2011-01-10</th>\n",
       "      <td>1.029205</td>\n",
       "      <td>0.983775</td>\n",
       "      <td>1.002163</td>\n",
       "      <td>38353.40</td>\n",
       "    </tr>\n",
       "    <tr>\n",
       "      <th>2011-01-17</th>\n",
       "      <td>1.050838</td>\n",
       "      <td>0.977285</td>\n",
       "      <td>1.037858</td>\n",
       "      <td>58811.60</td>\n",
       "    </tr>\n",
       "    <tr>\n",
       "      <th>2011-01-24</th>\n",
       "      <td>1.001044</td>\n",
       "      <td>0.935248</td>\n",
       "      <td>0.937337</td>\n",
       "      <td>33428.60</td>\n",
       "    </tr>\n",
       "    <tr>\n",
       "      <th>2011-01-31</th>\n",
       "      <td>1.030991</td>\n",
       "      <td>0.975097</td>\n",
       "      <td>0.991699</td>\n",
       "      <td>29863.00</td>\n",
       "    </tr>\n",
       "    <tr>\n",
       "      <th>...</th>\n",
       "      <td>...</td>\n",
       "      <td>...</td>\n",
       "      <td>...</td>\n",
       "      <td>...</td>\n",
       "    </tr>\n",
       "    <tr>\n",
       "      <th>2022-11-28</th>\n",
       "      <td>1.012658</td>\n",
       "      <td>0.948651</td>\n",
       "      <td>0.995701</td>\n",
       "      <td>49068.00</td>\n",
       "    </tr>\n",
       "    <tr>\n",
       "      <th>2022-12-05</th>\n",
       "      <td>1.023194</td>\n",
       "      <td>0.977048</td>\n",
       "      <td>0.995651</td>\n",
       "      <td>28464.80</td>\n",
       "    </tr>\n",
       "    <tr>\n",
       "      <th>2022-12-12</th>\n",
       "      <td>1.588249</td>\n",
       "      <td>1.000000</td>\n",
       "      <td>1.402748</td>\n",
       "      <td>9340196.60</td>\n",
       "    </tr>\n",
       "    <tr>\n",
       "      <th>2022-12-19</th>\n",
       "      <td>1.014764</td>\n",
       "      <td>0.868841</td>\n",
       "      <td>0.875536</td>\n",
       "      <td>1790660.40</td>\n",
       "    </tr>\n",
       "    <tr>\n",
       "      <th>2022-12-26</th>\n",
       "      <td>1.134872</td>\n",
       "      <td>0.936284</td>\n",
       "      <td>1.002098</td>\n",
       "      <td>6225381.25</td>\n",
       "    </tr>\n",
       "  </tbody>\n",
       "</table>\n",
       "<p>585 rows × 4 columns</p>\n",
       "</div>"
      ],
      "text/plain": [
       "                high       low     close      volume\n",
       "2011-01-03  1.012042  0.989600  1.007115    21249.60\n",
       "2011-01-10  1.029205  0.983775  1.002163    38353.40\n",
       "2011-01-17  1.050838  0.977285  1.037858    58811.60\n",
       "2011-01-24  1.001044  0.935248  0.937337    33428.60\n",
       "2011-01-31  1.030991  0.975097  0.991699    29863.00\n",
       "...              ...       ...       ...         ...\n",
       "2022-11-28  1.012658  0.948651  0.995701    49068.00\n",
       "2022-12-05  1.023194  0.977048  0.995651    28464.80\n",
       "2022-12-12  1.588249  1.000000  1.402748  9340196.60\n",
       "2022-12-19  1.014764  0.868841  0.875536  1790660.40\n",
       "2022-12-26  1.134872  0.936284  1.002098  6225381.25\n",
       "\n",
       "[585 rows x 4 columns]"
      ]
     },
     "execution_count": 7,
     "metadata": {},
     "output_type": "execute_result"
    }
   ],
   "source": [
    "df2"
   ]
  },
  {
   "cell_type": "code",
   "execution_count": 9,
   "id": "2cbb159e",
   "metadata": {},
   "outputs": [],
   "source": [
    "train1 = df1_cleaned.iloc[:-1]\n",
    "train2 = df2.iloc[:-1]\n",
    "\n",
    "label1 = labelling(df1_cleaned)\n",
    "label2 = labelling(df2)"
   ]
  },
  {
   "cell_type": "code",
   "execution_count": 10,
   "id": "246de328",
   "metadata": {},
   "outputs": [],
   "source": [
    "from sklearn.svm import SVC\n",
    "\n",
    "svm_model1 = SVC()\n",
    "svm_model2 = SVC()"
   ]
  },
  {
   "cell_type": "code",
   "execution_count": 11,
   "id": "64903eec",
   "metadata": {},
   "outputs": [
    {
     "data": {
      "text/html": [
       "<style>#sk-container-id-1 {color: black;}#sk-container-id-1 pre{padding: 0;}#sk-container-id-1 div.sk-toggleable {background-color: white;}#sk-container-id-1 label.sk-toggleable__label {cursor: pointer;display: block;width: 100%;margin-bottom: 0;padding: 0.3em;box-sizing: border-box;text-align: center;}#sk-container-id-1 label.sk-toggleable__label-arrow:before {content: \"▸\";float: left;margin-right: 0.25em;color: #696969;}#sk-container-id-1 label.sk-toggleable__label-arrow:hover:before {color: black;}#sk-container-id-1 div.sk-estimator:hover label.sk-toggleable__label-arrow:before {color: black;}#sk-container-id-1 div.sk-toggleable__content {max-height: 0;max-width: 0;overflow: hidden;text-align: left;background-color: #f0f8ff;}#sk-container-id-1 div.sk-toggleable__content pre {margin: 0.2em;color: black;border-radius: 0.25em;background-color: #f0f8ff;}#sk-container-id-1 input.sk-toggleable__control:checked~div.sk-toggleable__content {max-height: 200px;max-width: 100%;overflow: auto;}#sk-container-id-1 input.sk-toggleable__control:checked~label.sk-toggleable__label-arrow:before {content: \"▾\";}#sk-container-id-1 div.sk-estimator input.sk-toggleable__control:checked~label.sk-toggleable__label {background-color: #d4ebff;}#sk-container-id-1 div.sk-label input.sk-toggleable__control:checked~label.sk-toggleable__label {background-color: #d4ebff;}#sk-container-id-1 input.sk-hidden--visually {border: 0;clip: rect(1px 1px 1px 1px);clip: rect(1px, 1px, 1px, 1px);height: 1px;margin: -1px;overflow: hidden;padding: 0;position: absolute;width: 1px;}#sk-container-id-1 div.sk-estimator {font-family: monospace;background-color: #f0f8ff;border: 1px dotted black;border-radius: 0.25em;box-sizing: border-box;margin-bottom: 0.5em;}#sk-container-id-1 div.sk-estimator:hover {background-color: #d4ebff;}#sk-container-id-1 div.sk-parallel-item::after {content: \"\";width: 100%;border-bottom: 1px solid gray;flex-grow: 1;}#sk-container-id-1 div.sk-label:hover label.sk-toggleable__label {background-color: #d4ebff;}#sk-container-id-1 div.sk-serial::before {content: \"\";position: absolute;border-left: 1px solid gray;box-sizing: border-box;top: 0;bottom: 0;left: 50%;z-index: 0;}#sk-container-id-1 div.sk-serial {display: flex;flex-direction: column;align-items: center;background-color: white;padding-right: 0.2em;padding-left: 0.2em;position: relative;}#sk-container-id-1 div.sk-item {position: relative;z-index: 1;}#sk-container-id-1 div.sk-parallel {display: flex;align-items: stretch;justify-content: center;background-color: white;position: relative;}#sk-container-id-1 div.sk-item::before, #sk-container-id-1 div.sk-parallel-item::before {content: \"\";position: absolute;border-left: 1px solid gray;box-sizing: border-box;top: 0;bottom: 0;left: 50%;z-index: -1;}#sk-container-id-1 div.sk-parallel-item {display: flex;flex-direction: column;z-index: 1;position: relative;background-color: white;}#sk-container-id-1 div.sk-parallel-item:first-child::after {align-self: flex-end;width: 50%;}#sk-container-id-1 div.sk-parallel-item:last-child::after {align-self: flex-start;width: 50%;}#sk-container-id-1 div.sk-parallel-item:only-child::after {width: 0;}#sk-container-id-1 div.sk-dashed-wrapped {border: 1px dashed gray;margin: 0 0.4em 0.5em 0.4em;box-sizing: border-box;padding-bottom: 0.4em;background-color: white;}#sk-container-id-1 div.sk-label label {font-family: monospace;font-weight: bold;display: inline-block;line-height: 1.2em;}#sk-container-id-1 div.sk-label-container {text-align: center;}#sk-container-id-1 div.sk-container {/* jupyter's `normalize.less` sets `[hidden] { display: none; }` but bootstrap.min.css set `[hidden] { display: none !important; }` so we also need the `!important` here to be able to override the default hidden behavior on the sphinx rendered scikit-learn.org. See: https://github.com/scikit-learn/scikit-learn/issues/21755 */display: inline-block !important;position: relative;}#sk-container-id-1 div.sk-text-repr-fallback {display: none;}</style><div id=\"sk-container-id-1\" class=\"sk-top-container\"><div class=\"sk-text-repr-fallback\"><pre>SVC()</pre><b>In a Jupyter environment, please rerun this cell to show the HTML representation or trust the notebook. <br />On GitHub, the HTML representation is unable to render, please try loading this page with nbviewer.org.</b></div><div class=\"sk-container\" hidden><div class=\"sk-item\"><div class=\"sk-estimator sk-toggleable\"><input class=\"sk-toggleable__control sk-hidden--visually\" id=\"sk-estimator-id-1\" type=\"checkbox\" checked><label for=\"sk-estimator-id-1\" class=\"sk-toggleable__label sk-toggleable__label-arrow\">SVC</label><div class=\"sk-toggleable__content\"><pre>SVC()</pre></div></div></div></div></div>"
      ],
      "text/plain": [
       "SVC()"
      ]
     },
     "execution_count": 11,
     "metadata": {},
     "output_type": "execute_result"
    }
   ],
   "source": [
    "svm_model1.fit(train1, label1)"
   ]
  },
  {
   "cell_type": "code",
   "execution_count": 12,
   "id": "a0cc332a",
   "metadata": {
    "scrolled": true
   },
   "outputs": [
    {
     "data": {
      "text/html": [
       "<style>#sk-container-id-2 {color: black;}#sk-container-id-2 pre{padding: 0;}#sk-container-id-2 div.sk-toggleable {background-color: white;}#sk-container-id-2 label.sk-toggleable__label {cursor: pointer;display: block;width: 100%;margin-bottom: 0;padding: 0.3em;box-sizing: border-box;text-align: center;}#sk-container-id-2 label.sk-toggleable__label-arrow:before {content: \"▸\";float: left;margin-right: 0.25em;color: #696969;}#sk-container-id-2 label.sk-toggleable__label-arrow:hover:before {color: black;}#sk-container-id-2 div.sk-estimator:hover label.sk-toggleable__label-arrow:before {color: black;}#sk-container-id-2 div.sk-toggleable__content {max-height: 0;max-width: 0;overflow: hidden;text-align: left;background-color: #f0f8ff;}#sk-container-id-2 div.sk-toggleable__content pre {margin: 0.2em;color: black;border-radius: 0.25em;background-color: #f0f8ff;}#sk-container-id-2 input.sk-toggleable__control:checked~div.sk-toggleable__content {max-height: 200px;max-width: 100%;overflow: auto;}#sk-container-id-2 input.sk-toggleable__control:checked~label.sk-toggleable__label-arrow:before {content: \"▾\";}#sk-container-id-2 div.sk-estimator input.sk-toggleable__control:checked~label.sk-toggleable__label {background-color: #d4ebff;}#sk-container-id-2 div.sk-label input.sk-toggleable__control:checked~label.sk-toggleable__label {background-color: #d4ebff;}#sk-container-id-2 input.sk-hidden--visually {border: 0;clip: rect(1px 1px 1px 1px);clip: rect(1px, 1px, 1px, 1px);height: 1px;margin: -1px;overflow: hidden;padding: 0;position: absolute;width: 1px;}#sk-container-id-2 div.sk-estimator {font-family: monospace;background-color: #f0f8ff;border: 1px dotted black;border-radius: 0.25em;box-sizing: border-box;margin-bottom: 0.5em;}#sk-container-id-2 div.sk-estimator:hover {background-color: #d4ebff;}#sk-container-id-2 div.sk-parallel-item::after {content: \"\";width: 100%;border-bottom: 1px solid gray;flex-grow: 1;}#sk-container-id-2 div.sk-label:hover label.sk-toggleable__label {background-color: #d4ebff;}#sk-container-id-2 div.sk-serial::before {content: \"\";position: absolute;border-left: 1px solid gray;box-sizing: border-box;top: 0;bottom: 0;left: 50%;z-index: 0;}#sk-container-id-2 div.sk-serial {display: flex;flex-direction: column;align-items: center;background-color: white;padding-right: 0.2em;padding-left: 0.2em;position: relative;}#sk-container-id-2 div.sk-item {position: relative;z-index: 1;}#sk-container-id-2 div.sk-parallel {display: flex;align-items: stretch;justify-content: center;background-color: white;position: relative;}#sk-container-id-2 div.sk-item::before, #sk-container-id-2 div.sk-parallel-item::before {content: \"\";position: absolute;border-left: 1px solid gray;box-sizing: border-box;top: 0;bottom: 0;left: 50%;z-index: -1;}#sk-container-id-2 div.sk-parallel-item {display: flex;flex-direction: column;z-index: 1;position: relative;background-color: white;}#sk-container-id-2 div.sk-parallel-item:first-child::after {align-self: flex-end;width: 50%;}#sk-container-id-2 div.sk-parallel-item:last-child::after {align-self: flex-start;width: 50%;}#sk-container-id-2 div.sk-parallel-item:only-child::after {width: 0;}#sk-container-id-2 div.sk-dashed-wrapped {border: 1px dashed gray;margin: 0 0.4em 0.5em 0.4em;box-sizing: border-box;padding-bottom: 0.4em;background-color: white;}#sk-container-id-2 div.sk-label label {font-family: monospace;font-weight: bold;display: inline-block;line-height: 1.2em;}#sk-container-id-2 div.sk-label-container {text-align: center;}#sk-container-id-2 div.sk-container {/* jupyter's `normalize.less` sets `[hidden] { display: none; }` but bootstrap.min.css set `[hidden] { display: none !important; }` so we also need the `!important` here to be able to override the default hidden behavior on the sphinx rendered scikit-learn.org. See: https://github.com/scikit-learn/scikit-learn/issues/21755 */display: inline-block !important;position: relative;}#sk-container-id-2 div.sk-text-repr-fallback {display: none;}</style><div id=\"sk-container-id-2\" class=\"sk-top-container\"><div class=\"sk-text-repr-fallback\"><pre>SVC()</pre><b>In a Jupyter environment, please rerun this cell to show the HTML representation or trust the notebook. <br />On GitHub, the HTML representation is unable to render, please try loading this page with nbviewer.org.</b></div><div class=\"sk-container\" hidden><div class=\"sk-item\"><div class=\"sk-estimator sk-toggleable\"><input class=\"sk-toggleable__control sk-hidden--visually\" id=\"sk-estimator-id-2\" type=\"checkbox\" checked><label for=\"sk-estimator-id-2\" class=\"sk-toggleable__label sk-toggleable__label-arrow\">SVC</label><div class=\"sk-toggleable__content\"><pre>SVC()</pre></div></div></div></div></div>"
      ],
      "text/plain": [
       "SVC()"
      ]
     },
     "execution_count": 12,
     "metadata": {},
     "output_type": "execute_result"
    }
   ],
   "source": [
    "svm_model2.fit(train2, label2)"
   ]
  },
  {
   "cell_type": "code",
   "execution_count": 13,
   "id": "df7a4c4d",
   "metadata": {},
   "outputs": [],
   "source": [
    "# 관심있는 주식 종목\n",
    "# 팬오션(028670), 대원전선우(002720)\n",
    "stock_code = ['028670', '002720']"
   ]
  },
  {
   "cell_type": "code",
   "execution_count": 14,
   "id": "b51fa9cb",
   "metadata": {},
   "outputs": [],
   "source": [
    "# test data의 시간대\n",
    "start = '20230102'\n",
    "end = '20231229'"
   ]
  },
  {
   "cell_type": "code",
   "execution_count": 15,
   "id": "dcc0bd7e",
   "metadata": {},
   "outputs": [],
   "source": [
    "test1 = stock.get_market_ohlcv(start, end, stock_code[0])\n",
    "test2 = stock.get_market_ohlcv(start, end, stock_code[1])\n",
    "\n",
    "test1 = training_preprocess(test1)\n",
    "test2 = training_preprocess(test2)"
   ]
  },
  {
   "cell_type": "code",
   "execution_count": 16,
   "id": "0065e58b",
   "metadata": {},
   "outputs": [],
   "source": [
    "test_label1 = labelling(test1)\n",
    "test_label2 = labelling(test2)"
   ]
  },
  {
   "cell_type": "code",
   "execution_count": 17,
   "id": "4b4d4dae",
   "metadata": {},
   "outputs": [],
   "source": [
    "from sklearn.metrics import accuracy_score "
   ]
  },
  {
   "cell_type": "code",
   "execution_count": 18,
   "id": "508947c9",
   "metadata": {},
   "outputs": [],
   "source": [
    "accuracy1 = accuracy_score(test_label1, svm_model1.predict(test1)[:-1])\n",
    "accuracy2 = accuracy_score(test_label2, svm_model2.predict(test2)[:-1])"
   ]
  },
  {
   "cell_type": "code",
   "execution_count": 19,
   "id": "d02272bc",
   "metadata": {
    "scrolled": true
   },
   "outputs": [
    {
     "name": "stdout",
     "output_type": "stream",
     "text": [
      "0.4666666666666667 0.6\n"
     ]
    }
   ],
   "source": [
    "print(accuracy1, accuracy2)"
   ]
  }
 ],
 "metadata": {
  "kernelspec": {
   "display_name": "Python 3 (ipykernel)",
   "language": "python",
   "name": "python3"
  },
  "language_info": {
   "codemirror_mode": {
    "name": "ipython",
    "version": 3
   },
   "file_extension": ".py",
   "mimetype": "text/x-python",
   "name": "python",
   "nbconvert_exporter": "python",
   "pygments_lexer": "ipython3",
   "version": "3.11.4"
  }
 },
 "nbformat": 4,
 "nbformat_minor": 5
}
