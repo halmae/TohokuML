{
 "cells": [
  {
   "cell_type": "code",
   "execution_count": 1,
   "id": "57c4583d",
   "metadata": {},
   "outputs": [],
   "source": [
    "from pykrx import stock\n",
    "from datetime import datetime, timedelta\n",
    "\n",
    "import numpy as np\n",
    "import pandas as pd\n",
    "import matplotlib.pyplot as plt"
   ]
  },
  {
   "cell_type": "code",
   "execution_count": 2,
   "id": "42a51cef",
   "metadata": {},
   "outputs": [],
   "source": [
    "from functions import weekly_preprocess, training_preprocess"
   ]
  },
  {
   "cell_type": "code",
   "execution_count": 3,
   "id": "9284b4bb",
   "metadata": {},
   "outputs": [],
   "source": [
    "# 관심있는 주식 종목\n",
    "# 팬오션(028670), 대원전선우(002720)\n",
    "stock_code = ['028670', '002720']"
   ]
  },
  {
   "cell_type": "code",
   "execution_count": 4,
   "id": "bff89acc",
   "metadata": {},
   "outputs": [],
   "source": [
    "# training data의 시간대\n",
    "start = '20110103'\n",
    "end = '20221230'"
   ]
  },
  {
   "cell_type": "code",
   "execution_count": 5,
   "id": "0e3f33c9",
   "metadata": {},
   "outputs": [],
   "source": [
    "# 관심 종목 데이터를 csv파일로 받아두기\n",
    "for code in stock_code:\n",
    "    df = stock.get_market_ohlcv(start, end, code)\n",
    "    \n",
    "    filename = f\"{code}.csv\"\n",
    "    df.to_csv(filename, encoding = 'utf-8-sig')   # utf-8-sig : 한글이 포함된 경우에도 작동시키기 위함"
   ]
  },
  {
   "cell_type": "code",
   "execution_count": 6,
   "id": "3177c2d5",
   "metadata": {},
   "outputs": [],
   "source": [
    "filename = f'{stock_code[0]}.csv'\n",
    "\n",
    "train_df = pd.read_csv(filename, index_col = 0, parse_dates = True)"
   ]
  },
  {
   "cell_type": "code",
   "execution_count": 7,
   "id": "7dd67bdc",
   "metadata": {
    "scrolled": false
   },
   "outputs": [
    {
     "data": {
      "text/html": [
       "<div>\n",
       "<style scoped>\n",
       "    .dataframe tbody tr th:only-of-type {\n",
       "        vertical-align: middle;\n",
       "    }\n",
       "\n",
       "    .dataframe tbody tr th {\n",
       "        vertical-align: top;\n",
       "    }\n",
       "\n",
       "    .dataframe thead th {\n",
       "        text-align: right;\n",
       "    }\n",
       "</style>\n",
       "<table border=\"1\" class=\"dataframe\">\n",
       "  <thead>\n",
       "    <tr style=\"text-align: right;\">\n",
       "      <th></th>\n",
       "      <th>high</th>\n",
       "      <th>low</th>\n",
       "      <th>close</th>\n",
       "      <th>volume</th>\n",
       "    </tr>\n",
       "  </thead>\n",
       "  <tbody>\n",
       "    <tr>\n",
       "      <th>2011-01-03</th>\n",
       "      <td>1.021652</td>\n",
       "      <td>0.995671</td>\n",
       "      <td>1.000012</td>\n",
       "      <td>1615305.0</td>\n",
       "    </tr>\n",
       "    <tr>\n",
       "      <th>2011-01-10</th>\n",
       "      <td>1.012993</td>\n",
       "      <td>0.978360</td>\n",
       "      <td>1.004341</td>\n",
       "      <td>1648942.6</td>\n",
       "    </tr>\n",
       "    <tr>\n",
       "      <th>2011-01-17</th>\n",
       "      <td>1.034189</td>\n",
       "      <td>0.965811</td>\n",
       "      <td>0.974364</td>\n",
       "      <td>2478168.4</td>\n",
       "    </tr>\n",
       "    <tr>\n",
       "      <th>2011-01-24</th>\n",
       "      <td>1.017622</td>\n",
       "      <td>0.947152</td>\n",
       "      <td>0.955963</td>\n",
       "      <td>2235941.6</td>\n",
       "    </tr>\n",
       "    <tr>\n",
       "      <th>2011-01-31</th>\n",
       "      <td>1.027650</td>\n",
       "      <td>0.990789</td>\n",
       "      <td>0.995398</td>\n",
       "      <td>1315576.5</td>\n",
       "    </tr>\n",
       "    <tr>\n",
       "      <th>...</th>\n",
       "      <td>...</td>\n",
       "      <td>...</td>\n",
       "      <td>...</td>\n",
       "      <td>...</td>\n",
       "    </tr>\n",
       "    <tr>\n",
       "      <th>2022-11-28</th>\n",
       "      <td>1.047801</td>\n",
       "      <td>0.988528</td>\n",
       "      <td>1.042065</td>\n",
       "      <td>2050140.0</td>\n",
       "    </tr>\n",
       "    <tr>\n",
       "      <th>2022-12-05</th>\n",
       "      <td>1.097248</td>\n",
       "      <td>0.983486</td>\n",
       "      <td>1.091743</td>\n",
       "      <td>3602847.4</td>\n",
       "    </tr>\n",
       "    <tr>\n",
       "      <th>2022-12-12</th>\n",
       "      <td>1.013582</td>\n",
       "      <td>0.932088</td>\n",
       "      <td>0.998302</td>\n",
       "      <td>3140911.4</td>\n",
       "    </tr>\n",
       "    <tr>\n",
       "      <th>2022-12-19</th>\n",
       "      <td>1.067126</td>\n",
       "      <td>0.965577</td>\n",
       "      <td>1.037866</td>\n",
       "      <td>4104783.2</td>\n",
       "    </tr>\n",
       "    <tr>\n",
       "      <th>2022-12-26</th>\n",
       "      <td>1.008361</td>\n",
       "      <td>0.954849</td>\n",
       "      <td>0.958194</td>\n",
       "      <td>2337898.5</td>\n",
       "    </tr>\n",
       "  </tbody>\n",
       "</table>\n",
       "<p>585 rows × 4 columns</p>\n",
       "</div>"
      ],
      "text/plain": [
       "                high       low     close     volume\n",
       "2011-01-03  1.021652  0.995671  1.000012  1615305.0\n",
       "2011-01-10  1.012993  0.978360  1.004341  1648942.6\n",
       "2011-01-17  1.034189  0.965811  0.974364  2478168.4\n",
       "2011-01-24  1.017622  0.947152  0.955963  2235941.6\n",
       "2011-01-31  1.027650  0.990789  0.995398  1315576.5\n",
       "...              ...       ...       ...        ...\n",
       "2022-11-28  1.047801  0.988528  1.042065  2050140.0\n",
       "2022-12-05  1.097248  0.983486  1.091743  3602847.4\n",
       "2022-12-12  1.013582  0.932088  0.998302  3140911.4\n",
       "2022-12-19  1.067126  0.965577  1.037866  4104783.2\n",
       "2022-12-26  1.008361  0.954849  0.958194  2337898.5\n",
       "\n",
       "[585 rows x 4 columns]"
      ]
     },
     "execution_count": 7,
     "metadata": {},
     "output_type": "execute_result"
    }
   ],
   "source": [
    "training_preprocess(train_df)"
   ]
  },
  {
   "cell_type": "code",
   "execution_count": 9,
   "id": "041125db",
   "metadata": {},
   "outputs": [],
   "source": [
    "for code in stock_code:\n",
    "    df = stock.get_market_ohlcv(start, end, code)\n",
    "    df_preprocess = training_preprocess(df)\n",
    "    \n",
    "    filename = f'{code}_preprocess.csv'\n",
    "    df_preprocess.to_csv(filename, encoding = 'utf-8-sig')   # utf-8-sig : 한글이 포함된 경우에도 작동시키기 위함"
   ]
  }
 ],
 "metadata": {
  "kernelspec": {
   "display_name": "Python 3 (ipykernel)",
   "language": "python",
   "name": "python3"
  },
  "language_info": {
   "codemirror_mode": {
    "name": "ipython",
    "version": 3
   },
   "file_extension": ".py",
   "mimetype": "text/x-python",
   "name": "python",
   "nbconvert_exporter": "python",
   "pygments_lexer": "ipython3",
   "version": "3.11.4"
  }
 },
 "nbformat": 4,
 "nbformat_minor": 5
}
